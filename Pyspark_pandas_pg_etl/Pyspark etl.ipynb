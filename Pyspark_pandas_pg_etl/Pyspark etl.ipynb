{
  "cells": [
    {
      "attachments": {},
      "cell_type": "markdown",
      "id": "8ff41f5d",
      "metadata": {
        "id": "8ff41f5d"
      },
      "source": [
        "#### Pyspark Basic Introduction"
      ]
    },
    {
      "cell_type": "code",
      "execution_count": 1,
      "id": "4abcaad4",
      "metadata": {
        "colab": {
          "base_uri": "https://localhost:8080/"
        },
        "id": "4abcaad4",
        "outputId": "297a736d-e2b2-4379-b81d-a0b92637aaa1"
      },
      "outputs": [
        {
          "name": "stdout",
          "output_type": "stream",
          "text": [
            "Collecting pyspark\n",
            "  Downloading pyspark-3.4.1.tar.gz (310.8 MB)\n",
            "\u001b[2K     \u001b[90m━━━━━━━━━━━━━━━━━━━━━━━━━━━━━━━━━━━━━━━\u001b[0m \u001b[32m310.8/310.8 MB\u001b[0m \u001b[31m2.3 MB/s\u001b[0m eta \u001b[36m0:00:00\u001b[0m\n",
            "\u001b[?25h  Preparing metadata (setup.py) ... \u001b[?25l\u001b[?25hdone\n",
            "Requirement already satisfied: py4j==0.10.9.7 in /usr/local/lib/python3.10/dist-packages (from pyspark) (0.10.9.7)\n",
            "Building wheels for collected packages: pyspark\n",
            "  Building wheel for pyspark (setup.py) ... \u001b[?25l\u001b[?25hdone\n",
            "  Created wheel for pyspark: filename=pyspark-3.4.1-py2.py3-none-any.whl size=311285398 sha256=69dc35fc50a6c86613c043fc8150e631dd4267e990b3f8417c60058e7de6301d\n",
            "  Stored in directory: /root/.cache/pip/wheels/0d/77/a3/ff2f74cc9ab41f8f594dabf0579c2a7c6de920d584206e0834\n",
            "Successfully built pyspark\n",
            "Installing collected packages: pyspark\n",
            "Successfully installed pyspark-3.4.1\n"
          ]
        }
      ],
      "source": [
        "!pip install pyspark"
      ]
    },
    {
      "cell_type": "code",
      "execution_count": 2,
      "id": "08b29f6a",
      "metadata": {
        "id": "08b29f6a"
      },
      "outputs": [],
      "source": [
        "import pyspark"
      ]
    },
    {
      "cell_type": "code",
      "execution_count": 3,
      "id": "FNYChcfXCGwH",
      "metadata": {
        "colab": {
          "base_uri": "https://localhost:8080/"
        },
        "id": "FNYChcfXCGwH",
        "outputId": "18cd23c3-c05c-44b9-c263-ff9f4938183a"
      },
      "outputs": [
        {
          "name": "stdout",
          "output_type": "stream",
          "text": [
            "Requirement already satisfied: pandas in /usr/local/lib/python3.10/dist-packages (1.5.3)\n",
            "Requirement already satisfied: python-dateutil>=2.8.1 in /usr/local/lib/python3.10/dist-packages (from pandas) (2.8.2)\n",
            "Requirement already satisfied: pytz>=2020.1 in /usr/local/lib/python3.10/dist-packages (from pandas) (2022.7.1)\n",
            "Requirement already satisfied: numpy>=1.21.0 in /usr/local/lib/python3.10/dist-packages (from pandas) (1.22.4)\n",
            "Requirement already satisfied: six>=1.5 in /usr/local/lib/python3.10/dist-packages (from python-dateutil>=2.8.1->pandas) (1.16.0)\n"
          ]
        }
      ],
      "source": [
        "!pip install pandas"
      ]
    },
    {
      "cell_type": "code",
      "execution_count": 4,
      "id": "e1de79e4",
      "metadata": {
        "colab": {
          "base_uri": "https://localhost:8080/"
        },
        "id": "e1de79e4",
        "outputId": "a06d2f77-d682-4fa0-aa08-ab9d9c7c1dcb"
      },
      "outputs": [
        {
          "name": "stderr",
          "output_type": "stream",
          "text": [
            "<ipython-input-4-856a364992a6>:2: DtypeWarning: Columns (6) have mixed types. Specify dtype option on import or set low_memory=False.\n",
            "  type(pd.read_csv('/content/yellow_tripdata_2021-01.csv'))\n"
          ]
        },
        {
          "data": {
            "text/plain": [
              "pandas.core.frame.DataFrame"
            ]
          },
          "execution_count": 4,
          "metadata": {},
          "output_type": "execute_result"
        }
      ],
      "source": [
        "import pandas as pd\n",
        "type(pd.read_csv('/content/yellow_tripdata_2021-01.csv'))"
      ]
    },
    {
      "cell_type": "code",
      "execution_count": 5,
      "id": "37a82e23",
      "metadata": {
        "id": "37a82e23"
      },
      "outputs": [],
      "source": [
        "from pyspark.sql import SparkSession"
      ]
    },
    {
      "cell_type": "code",
      "execution_count": 6,
      "id": "c334b45e",
      "metadata": {
        "id": "c334b45e"
      },
      "outputs": [],
      "source": [
        "spark=SparkSession.builder.appName('Practice').getOrCreate()"
      ]
    },
    {
      "cell_type": "code",
      "execution_count": 7,
      "id": "558caca5",
      "metadata": {
        "colab": {
          "base_uri": "https://localhost:8080/",
          "height": 219
        },
        "id": "558caca5",
        "outputId": "b7517416-a3f5-440b-eff7-a8ff5485f9ad"
      },
      "outputs": [
        {
          "data": {
            "text/html": [
              "\n",
              "            <div>\n",
              "                <p><b>SparkSession - in-memory</b></p>\n",
              "                \n",
              "        <div>\n",
              "            <p><b>SparkContext</b></p>\n",
              "\n",
              "            <p><a href=\"http://1cd03742056b:4040\">Spark UI</a></p>\n",
              "\n",
              "            <dl>\n",
              "              <dt>Version</dt>\n",
              "                <dd><code>v3.4.1</code></dd>\n",
              "              <dt>Master</dt>\n",
              "                <dd><code>local[*]</code></dd>\n",
              "              <dt>AppName</dt>\n",
              "                <dd><code>Practice</code></dd>\n",
              "            </dl>\n",
              "        </div>\n",
              "        \n",
              "            </div>\n",
              "        "
            ],
            "text/plain": [
              "<pyspark.sql.session.SparkSession at 0x7fb18851ccd0>"
            ]
          },
          "execution_count": 7,
          "metadata": {},
          "output_type": "execute_result"
        }
      ],
      "source": [
        "spark"
      ]
    },
    {
      "cell_type": "code",
      "execution_count": 8,
      "id": "f7ac726b",
      "metadata": {
        "id": "f7ac726b"
      },
      "outputs": [],
      "source": [
        "df_pyspark=spark.read.csv('/content/yellow_tripdata_2021-01.csv')"
      ]
    },
    {
      "cell_type": "code",
      "execution_count": 9,
      "id": "6f077d49",
      "metadata": {
        "id": "6f077d49"
      },
      "outputs": [],
      "source": [
        "df_pyspark=spark.read.option('header','true').csv('/content/yellow_tripdata_2021-01.csv')"
      ]
    },
    {
      "cell_type": "code",
      "execution_count": 10,
      "id": "2e0eee51",
      "metadata": {
        "colab": {
          "base_uri": "https://localhost:8080/"
        },
        "id": "2e0eee51",
        "outputId": "0b822bc7-2303-4958-a9aa-b5264d62e6ee"
      },
      "outputs": [
        {
          "data": {
            "text/plain": [
              "pyspark.sql.dataframe.DataFrame"
            ]
          },
          "execution_count": 10,
          "metadata": {},
          "output_type": "execute_result"
        }
      ],
      "source": [
        "type(df_pyspark)"
      ]
    },
    {
      "cell_type": "code",
      "execution_count": 11,
      "id": "bb26bf24",
      "metadata": {
        "colab": {
          "base_uri": "https://localhost:8080/"
        },
        "id": "bb26bf24",
        "outputId": "711f2096-e17f-4eb5-e00c-7a9851ce3a19"
      },
      "outputs": [
        {
          "name": "stdout",
          "output_type": "stream",
          "text": [
            "root\n",
            " |-- VendorID: string (nullable = true)\n",
            " |-- tpep_pickup_datetime: string (nullable = true)\n",
            " |-- tpep_dropoff_datetime: string (nullable = true)\n",
            " |-- passenger_count: string (nullable = true)\n",
            " |-- trip_distance: string (nullable = true)\n",
            " |-- RatecodeID: string (nullable = true)\n",
            " |-- store_and_fwd_flag: string (nullable = true)\n",
            " |-- PULocationID: string (nullable = true)\n",
            " |-- DOLocationID: string (nullable = true)\n",
            " |-- payment_type: string (nullable = true)\n",
            " |-- fare_amount: string (nullable = true)\n",
            " |-- extra: string (nullable = true)\n",
            " |-- mta_tax: string (nullable = true)\n",
            " |-- tip_amount: string (nullable = true)\n",
            " |-- tolls_amount: string (nullable = true)\n",
            " |-- improvement_surcharge: string (nullable = true)\n",
            " |-- total_amount: string (nullable = true)\n",
            " |-- congestion_surcharge: string (nullable = true)\n",
            "\n"
          ]
        }
      ],
      "source": [
        "df_pyspark.printSchema()"
      ]
    },
    {
      "cell_type": "code",
      "execution_count": 12,
      "id": "17a81cc1",
      "metadata": {
        "colab": {
          "base_uri": "https://localhost:8080/"
        },
        "id": "17a81cc1",
        "outputId": "b115d6ae-d90d-47f5-9b8b-03bcec353d34"
      },
      "outputs": [
        {
          "name": "stdout",
          "output_type": "stream",
          "text": [
            "+--------+--------------------+---------------------+---------------+-------------+----------+------------------+------------+------------+------------+-----------+-----+-------+----------+------------+---------------------+------------+--------------------+\n",
            "|VendorID|tpep_pickup_datetime|tpep_dropoff_datetime|passenger_count|trip_distance|RatecodeID|store_and_fwd_flag|PULocationID|DOLocationID|payment_type|fare_amount|extra|mta_tax|tip_amount|tolls_amount|improvement_surcharge|total_amount|congestion_surcharge|\n",
            "+--------+--------------------+---------------------+---------------+-------------+----------+------------------+------------+------------+------------+-----------+-----+-------+----------+------------+---------------------+------------+--------------------+\n",
            "|       1| 2021-01-01 00:30:10|  2021-01-01 00:36:12|              1|         2.10|         1|                 N|         142|          43|           2|          8|    3|    0.5|         0|           0|                  0.3|        11.8|                 2.5|\n",
            "|       1| 2021-01-01 00:51:20|  2021-01-01 00:52:19|              1|          .20|         1|                 N|         238|         151|           2|          3|  0.5|    0.5|         0|           0|                  0.3|         4.3|                   0|\n",
            "|       1| 2021-01-01 00:43:30|  2021-01-01 01:11:06|              1|        14.70|         1|                 N|         132|         165|           1|         42|  0.5|    0.5|      8.65|           0|                  0.3|       51.95|                   0|\n",
            "|       1| 2021-01-01 00:15:48|  2021-01-01 00:31:01|              0|        10.60|         1|                 N|         138|         132|           1|         29|  0.5|    0.5|      6.05|           0|                  0.3|       36.35|                   0|\n",
            "|       2| 2021-01-01 00:31:49|  2021-01-01 00:48:21|              1|         4.94|         1|                 N|          68|          33|           1|       16.5|  0.5|    0.5|      4.06|           0|                  0.3|       24.36|                 2.5|\n",
            "|       1| 2021-01-01 00:16:29|  2021-01-01 00:24:30|              1|         1.60|         1|                 N|         224|          68|           1|          8|    3|    0.5|      2.35|           0|                  0.3|       14.15|                 2.5|\n",
            "|       1| 2021-01-01 00:00:28|  2021-01-01 00:17:28|              1|         4.10|         1|                 N|          95|         157|           2|         16|  0.5|    0.5|         0|           0|                  0.3|        17.3|                   0|\n",
            "|       1| 2021-01-01 00:12:29|  2021-01-01 00:30:34|              1|         5.70|         1|                 N|          90|          40|           2|         18|    3|    0.5|         0|           0|                  0.3|        21.8|                 2.5|\n",
            "|       1| 2021-01-01 00:39:16|  2021-01-01 01:00:13|              1|         9.10|         1|                 N|          97|         129|           4|       27.5|  0.5|    0.5|         0|           0|                  0.3|        28.8|                   0|\n",
            "|       1| 2021-01-01 00:26:12|  2021-01-01 00:39:46|              2|         2.70|         1|                 N|         263|         142|           1|         12|    3|    0.5|      3.15|           0|                  0.3|       18.95|                 2.5|\n",
            "|       2| 2021-01-01 00:15:52|  2021-01-01 00:38:07|              3|         6.11|         1|                 N|         164|         255|           1|       20.5|  0.5|    0.5|         0|           0|                  0.3|        24.3|                 2.5|\n",
            "|       2| 2021-01-01 00:46:36|  2021-01-01 00:53:45|              2|         1.21|         1|                 N|         255|          80|           1|          7|  0.5|    0.5|      2.49|           0|                  0.3|       10.79|                   0|\n",
            "|       1| 2021-01-01 00:10:46|  2021-01-01 00:32:58|              2|         7.40|         1|                 N|         138|         166|           2|       24.5|  2.5|    0.5|         0|        6.12|                  0.3|       33.92|                   0|\n",
            "|       2| 2021-01-01 00:31:06|  2021-01-01 00:38:52|              5|         1.70|         1|                 N|         142|          50|           1|          8|  0.5|    0.5|      2.36|           0|                  0.3|       14.16|                 2.5|\n",
            "|       2| 2021-01-01 00:42:11|  2021-01-01 00:44:24|              5|          .81|         1|                 N|          50|         142|           2|        4.5|  0.5|    0.5|         0|           0|                  0.3|         8.3|                 2.5|\n",
            "|       2| 2021-01-01 00:17:48|  2021-01-01 00:21:55|              1|         1.01|         1|                 N|         236|         237|           1|        5.5|  0.5|    0.5|         1|           0|                  0.3|        10.3|                 2.5|\n",
            "|       2| 2021-01-01 00:33:38|  2021-01-01 00:38:37|              1|          .73|         1|                 N|         142|         239|           1|        5.5|  0.5|    0.5|      2.79|           0|                  0.3|       12.09|                 2.5|\n",
            "|       2| 2021-01-01 00:47:56|  2021-01-01 00:52:53|              1|         1.17|         1|                 N|         238|         166|           1|        6.5|  0.5|    0.5|      2.06|           0|                  0.3|       12.36|                 2.5|\n",
            "|       2| 2021-01-01 00:04:21|  2021-01-01 00:07:58|              1|          .78|         1|                 N|         239|         238|           1|        4.5|  0.5|    0.5|      1.66|           0|                  0.3|        9.96|                 2.5|\n",
            "|       2| 2021-01-01 00:18:36|  2021-01-01 00:27:10|              2|         1.66|         1|                 N|         151|         142|           2|        8.5|  0.5|    0.5|         0|           0|                  0.3|        12.3|                 2.5|\n",
            "+--------+--------------------+---------------------+---------------+-------------+----------+------------------+------------+------------+------------+-----------+-----+-------+----------+------------+---------------------+------------+--------------------+\n",
            "only showing top 20 rows\n",
            "\n"
          ]
        }
      ],
      "source": [
        "df_pyspark.show()"
      ]
    },
    {
      "cell_type": "code",
      "execution_count": 13,
      "id": "45996ebc",
      "metadata": {
        "colab": {
          "base_uri": "https://localhost:8080/"
        },
        "id": "45996ebc",
        "outputId": "e1d34a24-6f23-47a0-b445-752491feb3c9"
      },
      "outputs": [
        {
          "data": {
            "text/plain": [
              "1369765"
            ]
          },
          "execution_count": 13,
          "metadata": {},
          "output_type": "execute_result"
        }
      ],
      "source": [
        "df_pyspark.count()"
      ]
    },
    {
      "attachments": {},
      "cell_type": "markdown",
      "id": "0s6j0MDDDZDh",
      "metadata": {
        "id": "0s6j0MDDDZDh"
      },
      "source": [
        "First thing we have to do is to change data types, because as of right now all of them are strings"
      ]
    },
    {
      "cell_type": "code",
      "execution_count": 14,
      "id": "BNfbxE9lGLYg",
      "metadata": {
        "id": "BNfbxE9lGLYg"
      },
      "outputs": [],
      "source": [
        "from pyspark.sql.functions import *\n"
      ]
    },
    {
      "cell_type": "code",
      "execution_count": 15,
      "id": "2cb5eda4",
      "metadata": {
        "id": "2cb5eda4"
      },
      "outputs": [],
      "source": [
        "# datetime columns\n",
        "dates_col = [\"tpep_pickup_datetime\", \"tpep_dropoff_datetime\"]\n",
        "for column in dates_col:\n",
        "  df_pyspark = df_pyspark.withColumn(column,to_timestamp(column))\n"
      ]
    },
    {
      "cell_type": "code",
      "execution_count": 16,
      "id": "foUHI0zkJTO5",
      "metadata": {
        "id": "foUHI0zkJTO5"
      },
      "outputs": [],
      "source": [
        "# int columns\n",
        "int_col = [\"VendorID\", \"passenger_count\", \"RatecodeID\", \"PULocationID\", \"DOLocationID\", \"payment_type\"]\n",
        "for column in int_col:\n",
        "  df_pyspark = df_pyspark.withColumn(column, col(column).cast('int'))"
      ]
    },
    {
      "cell_type": "code",
      "execution_count": 17,
      "id": "VnAUob5eJono",
      "metadata": {
        "id": "VnAUob5eJono"
      },
      "outputs": [],
      "source": [
        "# float columns\n",
        "float_col = [\"trip_distance\", \"fare_amount\", \"extra\", \"mta_tax\", \"tip_amount\", \"tolls_amount\", \"improvement_surcharge\", \"total_amount\", \"congestion_surcharge\"]\n",
        "for column in float_col:\n",
        "  df_pyspark = df_pyspark.withColumn(column, col(column).cast('float'))"
      ]
    },
    {
      "cell_type": "code",
      "execution_count": 18,
      "id": "60d8d7b6",
      "metadata": {
        "colab": {
          "base_uri": "https://localhost:8080/"
        },
        "id": "60d8d7b6",
        "outputId": "e55a9a83-2b16-4b13-c770-552b75b97f97"
      },
      "outputs": [
        {
          "name": "stdout",
          "output_type": "stream",
          "text": [
            "root\n",
            " |-- VendorID: integer (nullable = true)\n",
            " |-- tpep_pickup_datetime: timestamp (nullable = true)\n",
            " |-- tpep_dropoff_datetime: timestamp (nullable = true)\n",
            " |-- passenger_count: integer (nullable = true)\n",
            " |-- trip_distance: float (nullable = true)\n",
            " |-- RatecodeID: integer (nullable = true)\n",
            " |-- store_and_fwd_flag: string (nullable = true)\n",
            " |-- PULocationID: integer (nullable = true)\n",
            " |-- DOLocationID: integer (nullable = true)\n",
            " |-- payment_type: integer (nullable = true)\n",
            " |-- fare_amount: float (nullable = true)\n",
            " |-- extra: float (nullable = true)\n",
            " |-- mta_tax: float (nullable = true)\n",
            " |-- tip_amount: float (nullable = true)\n",
            " |-- tolls_amount: float (nullable = true)\n",
            " |-- improvement_surcharge: float (nullable = true)\n",
            " |-- total_amount: float (nullable = true)\n",
            " |-- congestion_surcharge: float (nullable = true)\n",
            "\n"
          ]
        }
      ],
      "source": [
        "df_pyspark.printSchema()"
      ]
    },
    {
      "attachments": {},
      "cell_type": "markdown",
      "id": "Ip-6fbkFNsv9",
      "metadata": {
        "id": "Ip-6fbkFNsv9"
      },
      "source": [
        "Lets look at some summary statistics"
      ]
    },
    {
      "cell_type": "code",
      "execution_count": 19,
      "id": "xk0uX9KSHbE_",
      "metadata": {
        "colab": {
          "base_uri": "https://localhost:8080/"
        },
        "id": "xk0uX9KSHbE_",
        "outputId": "34a3061c-00f7-4068-a912-cb933647ddbe"
      },
      "outputs": [
        {
          "name": "stdout",
          "output_type": "stream",
          "text": [
            "+-------+------------------+------------------+------------------+------------------+------------------+-----------------+------------------+------------------+------------------+------------------+-------------------+------------------+-------------------+---------------------+------------------+--------------------+\n",
            "|summary|          VendorID|   passenger_count|     trip_distance|        RatecodeID|store_and_fwd_flag|     PULocationID|      DOLocationID|      payment_type|       fare_amount|             extra|            mta_tax|        tip_amount|       tolls_amount|improvement_surcharge|      total_amount|congestion_surcharge|\n",
            "+-------+------------------+------------------+------------------+------------------+------------------+-----------------+------------------+------------------+------------------+------------------+-------------------+------------------+-------------------+---------------------+------------------+--------------------+\n",
            "|  count|           1271413|           1271413|           1369765|           1271413|           1271413|          1369765|           1369765|           1271413|           1369765|           1369765|            1369765|           1369765|            1369765|              1369765|           1369765|             1369765|\n",
            "|   mean|1.6769248072813476|1.4115082982476976| 4.631982073298812|1.0350806543585758|              null| 165.247154073874|161.49560691067447|1.2805209636837125|12.096617975218132|0.9705084667917974| 0.4930411420937168|1.9180986354452505|0.24774320034043812|  0.29694123894418645| 17.47438894170194|   2.116097834300044|\n",
            "| stddev|0.4676513493833464|1.0598325046055665|393.90424914446646|0.5994839556827837|              null|67.83849397718593| 72.10800208643963| 0.491692070810133|12.913383400557066| 1.231256090254113|0.07632069694105993|2.5971534705421804| 1.6727550090542427|  0.04222174050756965|14.693431507564048|  0.9287277262151792|\n",
            "|    min|                 1|                 0|               0.0|                 1|                 N|                1|                 1|                 1|            -490.0|              -5.5|               -0.5|            -100.0|             -31.12|                 -0.3|            -492.8|                -2.5|\n",
            "|    25%|                 1|                 1|               1.0|                 1|              null|              124|               107|                 1|               6.0|               0.0|                0.5|               0.0|                0.0|                  0.3|              10.8|                 2.5|\n",
            "|    50%|                 2|                 1|               1.7|                 1|              null|              162|               162|                 1|               8.5|               0.0|                0.5|              1.86|                0.0|                  0.3|              13.8|                 2.5|\n",
            "|    75%|                 2|                 1|              3.02|                 1|              null|              236|               236|                 2|              13.5|               2.5|                0.5|              2.75|                0.0|                  0.3|             19.12|                 2.5|\n",
            "|    max|                 2|                 8|         263163.28|                99|                 Y|              265|               265|                 4|            6960.5|              8.25|                0.5|           1140.44|             811.75|                  0.3|           7661.28|                 3.0|\n",
            "+-------+------------------+------------------+------------------+------------------+------------------+-----------------+------------------+------------------+------------------+------------------+-------------------+------------------+-------------------+---------------------+------------------+--------------------+\n",
            "\n"
          ]
        }
      ],
      "source": [
        "df_pyspark.summary().show()\n"
      ]
    },
    {
      "attachments": {},
      "cell_type": "markdown",
      "id": "-VQ5k38OQC1S",
      "metadata": {
        "id": "-VQ5k38OQC1S"
      },
      "source": [
        "Some of the things dont make sense as we can see, for example tips or fare_amount below 0"
      ]
    },
    {
      "cell_type": "code",
      "execution_count": 20,
      "id": "e9c3ce8e",
      "metadata": {
        "colab": {
          "base_uri": "https://localhost:8080/"
        },
        "id": "e9c3ce8e",
        "outputId": "c8330aa0-c80f-49f0-81bc-3f56a36cd38a"
      },
      "outputs": [
        {
          "data": {
            "text/plain": [
              "6662"
            ]
          },
          "execution_count": 20,
          "metadata": {},
          "output_type": "execute_result"
        }
      ],
      "source": [
        "df_pyspark.filter(df_pyspark.fare_amount < 0).count()\n",
        "df_pyspark.filter(df_pyspark.extra < 0).count()\n",
        "df_pyspark.filter(df_pyspark.tip_amount < 0).count()\n",
        "df_pyspark.filter(df_pyspark.tolls_amount < 0).count()\n",
        "df_pyspark.filter(df_pyspark.total_amount < 0).count()"
      ]
    },
    {
      "cell_type": "code",
      "execution_count": 21,
      "id": "mDn0Ha1WTexB",
      "metadata": {
        "id": "mDn0Ha1WTexB"
      },
      "outputs": [],
      "source": [
        "df_pyspark = df_pyspark.filter(df_pyspark.fare_amount > 0).drop()"
      ]
    },
    {
      "cell_type": "code",
      "execution_count": 22,
      "id": "sVmhSPMzRbM6",
      "metadata": {
        "colab": {
          "base_uri": "https://localhost:8080/"
        },
        "id": "sVmhSPMzRbM6",
        "outputId": "71a57e39-b2fd-4e8e-a482-219377ba1407"
      },
      "outputs": [
        {
          "data": {
            "text/plain": [
              "1362354"
            ]
          },
          "execution_count": 22,
          "metadata": {},
          "output_type": "execute_result"
        }
      ],
      "source": [
        "df_pyspark.count()"
      ]
    },
    {
      "cell_type": "code",
      "execution_count": 23,
      "id": "hWqJNGzaSV04",
      "metadata": {
        "colab": {
          "base_uri": "https://localhost:8080/"
        },
        "id": "hWqJNGzaSV04",
        "outputId": "3db9a58d-a1f3-408c-f381-a640b61636b6"
      },
      "outputs": [
        {
          "name": "stdout",
          "output_type": "stream",
          "text": [
            "+-------+------------------+------------------+------------------+------------------+------------------+------------------+------------------+-------------------+------------------+------------------+--------------------+------------------+-------------------+---------------------+------------------+--------------------+\n",
            "|summary|          VendorID|   passenger_count|     trip_distance|        RatecodeID|store_and_fwd_flag|      PULocationID|      DOLocationID|       payment_type|       fare_amount|             extra|             mta_tax|        tip_amount|       tolls_amount|improvement_surcharge|      total_amount|congestion_surcharge|\n",
            "+-------+------------------+------------------+------------------+------------------+------------------+------------------+------------------+-------------------+------------------+------------------+--------------------+------------------+-------------------+---------------------+------------------+--------------------+\n",
            "|  count|           1264148|           1264148|           1362354|           1264148|           1264148|           1362354|           1362354|            1264148|           1362354|           1362354|             1362354|           1362354|            1362354|              1362354|           1362354|             1362354|\n",
            "|   mean|1.6753006768194862|1.4118948097849302|  4.64700906271993|1.0335538243939792|              null|165.26445843004095|161.49355894282985| 1.2691694326930074|12.215090777313641|0.9770570351135478| 0.49807355503782424|1.9282782722994607|0.24781166627852025|  0.29995553008844783| 17.63568481367417|   2.137678055776986|\n",
            "| stddev|0.4682625824890337|1.0606358004544585|394.97404538130775|0.5582989591079898|              null| 67.83688382265834| 72.10728653309324|0.46539410799928693|12.800033605385162|1.2307105456736116|0.030999678119230125| 2.595946887790689| 1.6609495306412576| 0.003652749845658...|14.520243351667649|  0.8800707481883113|\n",
            "|    min|                 1|                 0|               0.0|                 1|                 N|                 1|                 1|                  1|              0.01|             -2.75|                -0.5|             -2.75|                0.0|                  0.0|              0.01|                 0.0|\n",
            "|    25%|                 1|                 1|               1.0|                 1|              null|               125|               107|                  1|               6.0|               0.0|                 0.5|               0.0|                0.0|                  0.3|              10.8|                 2.5|\n",
            "|    50%|                 2|                 1|               1.7|                 1|              null|               162|               162|                  1|               8.5|               0.5|                 0.5|              1.86|                0.0|                  0.3|              13.8|                 2.5|\n",
            "|    75%|                 2|                 1|              3.03|                 1|              null|               236|               236|                  2|              13.5|               2.5|                 0.5|              2.75|                0.0|                  0.3|             19.23|                 2.5|\n",
            "|    max|                 2|                 8|         263163.28|                99|                 Y|               265|               265|                  4|            6960.5|              8.25|                 0.5|           1140.44|             811.75|                  0.3|           7661.28|                 3.0|\n",
            "+-------+------------------+------------------+------------------+------------------+------------------+------------------+------------------+-------------------+------------------+------------------+--------------------+------------------+-------------------+---------------------+------------------+--------------------+\n",
            "\n"
          ]
        }
      ],
      "source": [
        "df_pyspark.summary().show()\n"
      ]
    },
    {
      "cell_type": "code",
      "execution_count": 24,
      "id": "m3EA26mlVanz",
      "metadata": {
        "colab": {
          "base_uri": "https://localhost:8080/"
        },
        "id": "m3EA26mlVanz",
        "outputId": "0ed1fe2e-fad4-4064-d1c4-8fcf2eb69d51"
      },
      "outputs": [
        {
          "name": "stdout",
          "output_type": "stream",
          "text": [
            "The column VendorID has 98206 null values.\n",
            "The column tpep_pickup_datetime has 0 null values.\n",
            "The column tpep_dropoff_datetime has 0 null values.\n",
            "The column passenger_count has 98206 null values.\n",
            "The column trip_distance has 0 null values.\n",
            "The column RatecodeID has 98206 null values.\n",
            "The column store_and_fwd_flag has 98206 null values.\n",
            "The column PULocationID has 0 null values.\n",
            "The column DOLocationID has 0 null values.\n",
            "The column payment_type has 98206 null values.\n",
            "The column fare_amount has 0 null values.\n",
            "The column extra has 0 null values.\n",
            "The column mta_tax has 0 null values.\n",
            "The column tip_amount has 0 null values.\n",
            "The column tolls_amount has 0 null values.\n",
            "The column improvement_surcharge has 0 null values.\n",
            "The column total_amount has 0 null values.\n",
            "The column congestion_surcharge has 0 null values.\n"
          ]
        }
      ],
      "source": [
        "for column in df_pyspark.columns:\n",
        "  nulls = df_pyspark.where(col(column).isNull()).count()\n",
        "  print(f\"The column {column} has {nulls} null values.\")"
      ]
    },
    {
      "cell_type": "code",
      "execution_count": 25,
      "id": "KxR9dbySVrq4",
      "metadata": {
        "colab": {
          "base_uri": "https://localhost:8080/"
        },
        "id": "KxR9dbySVrq4",
        "outputId": "f981b109-713d-4c22-ebd9-2dcd31d5add9"
      },
      "outputs": [
        {
          "name": "stdout",
          "output_type": "stream",
          "text": [
            "+--------+--------------------+---------------------+---------------+-------------+----------+------------------+------------+------------+------------+-----------+-----+-------+----------+------------+---------------------+------------+--------------------+\n",
            "|VendorID|tpep_pickup_datetime|tpep_dropoff_datetime|passenger_count|trip_distance|RatecodeID|store_and_fwd_flag|PULocationID|DOLocationID|payment_type|fare_amount|extra|mta_tax|tip_amount|tolls_amount|improvement_surcharge|total_amount|congestion_surcharge|\n",
            "+--------+--------------------+---------------------+---------------+-------------+----------+------------------+------------+------------+------------+-----------+-----+-------+----------+------------+---------------------+------------+--------------------+\n",
            "|   98206|                   0|                    0|          98206|            0|     98206|             98206|           0|           0|       98206|          0|    0|      0|         0|           0|                    0|           0|                   0|\n",
            "+--------+--------------------+---------------------+---------------+-------------+----------+------------------+------------+------------+------------+-----------+-----+-------+----------+------------+---------------------+------------+--------------------+\n",
            "\n"
          ]
        }
      ],
      "source": [
        "#quicker check for nulls\n",
        "df_pyspark.select([count(when(col(c).isNull(), c)).alias(c) for c in df_pyspark.columns]).show()"
      ]
    },
    {
      "cell_type": "code",
      "execution_count": 26,
      "id": "OAbIYsVzW4Dh",
      "metadata": {
        "id": "OAbIYsVzW4Dh"
      },
      "outputs": [],
      "source": [
        "df_pyspark = df_pyspark.dropna()"
      ]
    },
    {
      "cell_type": "code",
      "execution_count": 27,
      "id": "NKGBHqiwVrJK",
      "metadata": {
        "colab": {
          "base_uri": "https://localhost:8080/"
        },
        "id": "NKGBHqiwVrJK",
        "outputId": "32be665e-03cc-4f97-e985-574eb2127ebb"
      },
      "outputs": [
        {
          "data": {
            "text/plain": [
              "1264148"
            ]
          },
          "execution_count": 27,
          "metadata": {},
          "output_type": "execute_result"
        }
      ],
      "source": [
        "df_pyspark.count()"
      ]
    },
    {
      "cell_type": "code",
      "execution_count": 28,
      "id": "EsGyh_GBYc_9",
      "metadata": {
        "colab": {
          "base_uri": "https://localhost:8080/"
        },
        "id": "EsGyh_GBYc_9",
        "outputId": "7e692b1a-08f7-4378-923a-d9e413b46040"
      },
      "outputs": [
        {
          "name": "stdout",
          "output_type": "stream",
          "text": [
            "+--------+--------------------+---------------------+---------------+-------------+----------+------------------+------------+------------+------------+-----------+-----+-------+----------+------------+---------------------+------------+--------------------+\n",
            "|VendorID|tpep_pickup_datetime|tpep_dropoff_datetime|passenger_count|trip_distance|RatecodeID|store_and_fwd_flag|PULocationID|DOLocationID|payment_type|fare_amount|extra|mta_tax|tip_amount|tolls_amount|improvement_surcharge|total_amount|congestion_surcharge|\n",
            "+--------+--------------------+---------------------+---------------+-------------+----------+------------------+------------+------------+------------+-----------+-----+-------+----------+------------+---------------------+------------+--------------------+\n",
            "|       0|                   0|                    0|              0|            0|         0|                 0|           0|           0|           0|          0|    0|      0|         0|           0|                    0|           0|                   0|\n",
            "+--------+--------------------+---------------------+---------------+-------------+----------+------------------+------------+------------+------------+-----------+-----+-------+----------+------------+---------------------+------------+--------------------+\n",
            "\n"
          ]
        }
      ],
      "source": [
        "df_pyspark.select([count(when(col(c).isNull(), c)).alias(c) for c in df_pyspark.columns]).show()"
      ]
    },
    {
      "attachments": {},
      "cell_type": "markdown",
      "id": "BfOjhSNUYpjo",
      "metadata": {
        "id": "BfOjhSNUYpjo"
      },
      "source": [
        "After getting rid of null values we can convert the dataframe to pandas and do some visualization and EDA."
      ]
    },
    {
      "cell_type": "code",
      "execution_count": 29,
      "id": "-Wb5vDHbYgfz",
      "metadata": {
        "colab": {
          "base_uri": "https://localhost:8080/"
        },
        "id": "-Wb5vDHbYgfz",
        "outputId": "75b9010e-1af0-4f52-d238-0c52e98bd1e6"
      },
      "outputs": [
        {
          "name": "stderr",
          "output_type": "stream",
          "text": [
            "/usr/local/lib/python3.10/dist-packages/pyspark/sql/pandas/conversion.py:251: FutureWarning: Passing unit-less datetime64 dtype to .astype is deprecated and will raise in a future version. Pass 'datetime64[ns]' instead\n",
            "  series = series.astype(t, copy=False)\n",
            "/usr/local/lib/python3.10/dist-packages/pyspark/sql/pandas/conversion.py:251: FutureWarning: Passing unit-less datetime64 dtype to .astype is deprecated and will raise in a future version. Pass 'datetime64[ns]' instead\n",
            "  series = series.astype(t, copy=False)\n"
          ]
        }
      ],
      "source": [
        "Pandas_DF = df_pyspark.toPandas()"
      ]
    },
    {
      "cell_type": "code",
      "execution_count": 30,
      "id": "jU4y98pqZVHi",
      "metadata": {
        "colab": {
          "base_uri": "https://localhost:8080/",
          "height": 488
        },
        "id": "jU4y98pqZVHi",
        "outputId": "099f32cc-f995-4d49-9a1e-dcce8888281e"
      },
      "outputs": [
        {
          "data": {
            "text/html": [
              "\n",
              "  <div id=\"df-13a25f01-23c6-4d0b-993d-802c3fd5f7a7\">\n",
              "    <div class=\"colab-df-container\">\n",
              "      <div>\n",
              "<style scoped>\n",
              "    .dataframe tbody tr th:only-of-type {\n",
              "        vertical-align: middle;\n",
              "    }\n",
              "\n",
              "    .dataframe tbody tr th {\n",
              "        vertical-align: top;\n",
              "    }\n",
              "\n",
              "    .dataframe thead th {\n",
              "        text-align: right;\n",
              "    }\n",
              "</style>\n",
              "<table border=\"1\" class=\"dataframe\">\n",
              "  <thead>\n",
              "    <tr style=\"text-align: right;\">\n",
              "      <th></th>\n",
              "      <th>VendorID</th>\n",
              "      <th>tpep_pickup_datetime</th>\n",
              "      <th>tpep_dropoff_datetime</th>\n",
              "      <th>passenger_count</th>\n",
              "      <th>trip_distance</th>\n",
              "      <th>RatecodeID</th>\n",
              "      <th>store_and_fwd_flag</th>\n",
              "      <th>PULocationID</th>\n",
              "      <th>DOLocationID</th>\n",
              "      <th>payment_type</th>\n",
              "      <th>fare_amount</th>\n",
              "      <th>extra</th>\n",
              "      <th>mta_tax</th>\n",
              "      <th>tip_amount</th>\n",
              "      <th>tolls_amount</th>\n",
              "      <th>improvement_surcharge</th>\n",
              "      <th>total_amount</th>\n",
              "      <th>congestion_surcharge</th>\n",
              "    </tr>\n",
              "  </thead>\n",
              "  <tbody>\n",
              "    <tr>\n",
              "      <th>0</th>\n",
              "      <td>1</td>\n",
              "      <td>2021-01-01 00:30:10</td>\n",
              "      <td>2021-01-01 00:36:12</td>\n",
              "      <td>1</td>\n",
              "      <td>2.10</td>\n",
              "      <td>1</td>\n",
              "      <td>N</td>\n",
              "      <td>142</td>\n",
              "      <td>43</td>\n",
              "      <td>2</td>\n",
              "      <td>8.0</td>\n",
              "      <td>3.0</td>\n",
              "      <td>0.5</td>\n",
              "      <td>0.00</td>\n",
              "      <td>0.00</td>\n",
              "      <td>0.3</td>\n",
              "      <td>11.800000</td>\n",
              "      <td>2.5</td>\n",
              "    </tr>\n",
              "    <tr>\n",
              "      <th>1</th>\n",
              "      <td>1</td>\n",
              "      <td>2021-01-01 00:51:20</td>\n",
              "      <td>2021-01-01 00:52:19</td>\n",
              "      <td>1</td>\n",
              "      <td>0.20</td>\n",
              "      <td>1</td>\n",
              "      <td>N</td>\n",
              "      <td>238</td>\n",
              "      <td>151</td>\n",
              "      <td>2</td>\n",
              "      <td>3.0</td>\n",
              "      <td>0.5</td>\n",
              "      <td>0.5</td>\n",
              "      <td>0.00</td>\n",
              "      <td>0.00</td>\n",
              "      <td>0.3</td>\n",
              "      <td>4.300000</td>\n",
              "      <td>0.0</td>\n",
              "    </tr>\n",
              "    <tr>\n",
              "      <th>2</th>\n",
              "      <td>1</td>\n",
              "      <td>2021-01-01 00:43:30</td>\n",
              "      <td>2021-01-01 01:11:06</td>\n",
              "      <td>1</td>\n",
              "      <td>14.70</td>\n",
              "      <td>1</td>\n",
              "      <td>N</td>\n",
              "      <td>132</td>\n",
              "      <td>165</td>\n",
              "      <td>1</td>\n",
              "      <td>42.0</td>\n",
              "      <td>0.5</td>\n",
              "      <td>0.5</td>\n",
              "      <td>8.65</td>\n",
              "      <td>0.00</td>\n",
              "      <td>0.3</td>\n",
              "      <td>51.950001</td>\n",
              "      <td>0.0</td>\n",
              "    </tr>\n",
              "    <tr>\n",
              "      <th>3</th>\n",
              "      <td>1</td>\n",
              "      <td>2021-01-01 00:15:48</td>\n",
              "      <td>2021-01-01 00:31:01</td>\n",
              "      <td>0</td>\n",
              "      <td>10.60</td>\n",
              "      <td>1</td>\n",
              "      <td>N</td>\n",
              "      <td>138</td>\n",
              "      <td>132</td>\n",
              "      <td>1</td>\n",
              "      <td>29.0</td>\n",
              "      <td>0.5</td>\n",
              "      <td>0.5</td>\n",
              "      <td>6.05</td>\n",
              "      <td>0.00</td>\n",
              "      <td>0.3</td>\n",
              "      <td>36.349998</td>\n",
              "      <td>0.0</td>\n",
              "    </tr>\n",
              "    <tr>\n",
              "      <th>4</th>\n",
              "      <td>2</td>\n",
              "      <td>2021-01-01 00:31:49</td>\n",
              "      <td>2021-01-01 00:48:21</td>\n",
              "      <td>1</td>\n",
              "      <td>4.94</td>\n",
              "      <td>1</td>\n",
              "      <td>N</td>\n",
              "      <td>68</td>\n",
              "      <td>33</td>\n",
              "      <td>1</td>\n",
              "      <td>16.5</td>\n",
              "      <td>0.5</td>\n",
              "      <td>0.5</td>\n",
              "      <td>4.06</td>\n",
              "      <td>0.00</td>\n",
              "      <td>0.3</td>\n",
              "      <td>24.360001</td>\n",
              "      <td>2.5</td>\n",
              "    </tr>\n",
              "    <tr>\n",
              "      <th>...</th>\n",
              "      <td>...</td>\n",
              "      <td>...</td>\n",
              "      <td>...</td>\n",
              "      <td>...</td>\n",
              "      <td>...</td>\n",
              "      <td>...</td>\n",
              "      <td>...</td>\n",
              "      <td>...</td>\n",
              "      <td>...</td>\n",
              "      <td>...</td>\n",
              "      <td>...</td>\n",
              "      <td>...</td>\n",
              "      <td>...</td>\n",
              "      <td>...</td>\n",
              "      <td>...</td>\n",
              "      <td>...</td>\n",
              "      <td>...</td>\n",
              "      <td>...</td>\n",
              "    </tr>\n",
              "    <tr>\n",
              "      <th>1264143</th>\n",
              "      <td>2</td>\n",
              "      <td>2021-01-31 23:58:47</td>\n",
              "      <td>2021-02-01 00:04:40</td>\n",
              "      <td>3</td>\n",
              "      <td>0.81</td>\n",
              "      <td>1</td>\n",
              "      <td>N</td>\n",
              "      <td>41</td>\n",
              "      <td>74</td>\n",
              "      <td>2</td>\n",
              "      <td>5.0</td>\n",
              "      <td>0.5</td>\n",
              "      <td>0.5</td>\n",
              "      <td>0.00</td>\n",
              "      <td>0.00</td>\n",
              "      <td>0.3</td>\n",
              "      <td>6.300000</td>\n",
              "      <td>0.0</td>\n",
              "    </tr>\n",
              "    <tr>\n",
              "      <th>1264144</th>\n",
              "      <td>2</td>\n",
              "      <td>2021-01-31 23:07:54</td>\n",
              "      <td>2021-01-31 23:19:42</td>\n",
              "      <td>1</td>\n",
              "      <td>3.81</td>\n",
              "      <td>1</td>\n",
              "      <td>N</td>\n",
              "      <td>113</td>\n",
              "      <td>141</td>\n",
              "      <td>2</td>\n",
              "      <td>12.5</td>\n",
              "      <td>0.5</td>\n",
              "      <td>0.5</td>\n",
              "      <td>0.00</td>\n",
              "      <td>0.00</td>\n",
              "      <td>0.3</td>\n",
              "      <td>16.299999</td>\n",
              "      <td>2.5</td>\n",
              "    </tr>\n",
              "    <tr>\n",
              "      <th>1264145</th>\n",
              "      <td>2</td>\n",
              "      <td>2021-01-31 23:30:45</td>\n",
              "      <td>2021-01-31 23:35:13</td>\n",
              "      <td>1</td>\n",
              "      <td>1.32</td>\n",
              "      <td>1</td>\n",
              "      <td>N</td>\n",
              "      <td>233</td>\n",
              "      <td>237</td>\n",
              "      <td>2</td>\n",
              "      <td>6.0</td>\n",
              "      <td>0.5</td>\n",
              "      <td>0.5</td>\n",
              "      <td>0.00</td>\n",
              "      <td>0.00</td>\n",
              "      <td>0.3</td>\n",
              "      <td>9.800000</td>\n",
              "      <td>2.5</td>\n",
              "    </tr>\n",
              "    <tr>\n",
              "      <th>1264146</th>\n",
              "      <td>2</td>\n",
              "      <td>2021-01-31 23:09:52</td>\n",
              "      <td>2021-01-31 23:51:56</td>\n",
              "      <td>2</td>\n",
              "      <td>10.56</td>\n",
              "      <td>1</td>\n",
              "      <td>N</td>\n",
              "      <td>56</td>\n",
              "      <td>68</td>\n",
              "      <td>1</td>\n",
              "      <td>37.5</td>\n",
              "      <td>0.5</td>\n",
              "      <td>0.5</td>\n",
              "      <td>0.00</td>\n",
              "      <td>6.12</td>\n",
              "      <td>0.3</td>\n",
              "      <td>44.919998</td>\n",
              "      <td>0.0</td>\n",
              "    </tr>\n",
              "    <tr>\n",
              "      <th>1264147</th>\n",
              "      <td>2</td>\n",
              "      <td>2021-01-31 23:26:15</td>\n",
              "      <td>2021-01-31 23:33:48</td>\n",
              "      <td>2</td>\n",
              "      <td>1.93</td>\n",
              "      <td>1</td>\n",
              "      <td>N</td>\n",
              "      <td>230</td>\n",
              "      <td>229</td>\n",
              "      <td>1</td>\n",
              "      <td>7.5</td>\n",
              "      <td>0.5</td>\n",
              "      <td>0.5</td>\n",
              "      <td>2.26</td>\n",
              "      <td>0.00</td>\n",
              "      <td>0.3</td>\n",
              "      <td>13.560000</td>\n",
              "      <td>2.5</td>\n",
              "    </tr>\n",
              "  </tbody>\n",
              "</table>\n",
              "<p>1264148 rows × 18 columns</p>\n",
              "</div>\n",
              "      <button class=\"colab-df-convert\" onclick=\"convertToInteractive('df-13a25f01-23c6-4d0b-993d-802c3fd5f7a7')\"\n",
              "              title=\"Convert this dataframe to an interactive table.\"\n",
              "              style=\"display:none;\">\n",
              "        \n",
              "  <svg xmlns=\"http://www.w3.org/2000/svg\" height=\"24px\"viewBox=\"0 0 24 24\"\n",
              "       width=\"24px\">\n",
              "    <path d=\"M0 0h24v24H0V0z\" fill=\"none\"/>\n",
              "    <path d=\"M18.56 5.44l.94 2.06.94-2.06 2.06-.94-2.06-.94-.94-2.06-.94 2.06-2.06.94zm-11 1L8.5 8.5l.94-2.06 2.06-.94-2.06-.94L8.5 2.5l-.94 2.06-2.06.94zm10 10l.94 2.06.94-2.06 2.06-.94-2.06-.94-.94-2.06-.94 2.06-2.06.94z\"/><path d=\"M17.41 7.96l-1.37-1.37c-.4-.4-.92-.59-1.43-.59-.52 0-1.04.2-1.43.59L10.3 9.45l-7.72 7.72c-.78.78-.78 2.05 0 2.83L4 21.41c.39.39.9.59 1.41.59.51 0 1.02-.2 1.41-.59l7.78-7.78 2.81-2.81c.8-.78.8-2.07 0-2.86zM5.41 20L4 18.59l7.72-7.72 1.47 1.35L5.41 20z\"/>\n",
              "  </svg>\n",
              "      </button>\n",
              "      \n",
              "  <style>\n",
              "    .colab-df-container {\n",
              "      display:flex;\n",
              "      flex-wrap:wrap;\n",
              "      gap: 12px;\n",
              "    }\n",
              "\n",
              "    .colab-df-convert {\n",
              "      background-color: #E8F0FE;\n",
              "      border: none;\n",
              "      border-radius: 50%;\n",
              "      cursor: pointer;\n",
              "      display: none;\n",
              "      fill: #1967D2;\n",
              "      height: 32px;\n",
              "      padding: 0 0 0 0;\n",
              "      width: 32px;\n",
              "    }\n",
              "\n",
              "    .colab-df-convert:hover {\n",
              "      background-color: #E2EBFA;\n",
              "      box-shadow: 0px 1px 2px rgba(60, 64, 67, 0.3), 0px 1px 3px 1px rgba(60, 64, 67, 0.15);\n",
              "      fill: #174EA6;\n",
              "    }\n",
              "\n",
              "    [theme=dark] .colab-df-convert {\n",
              "      background-color: #3B4455;\n",
              "      fill: #D2E3FC;\n",
              "    }\n",
              "\n",
              "    [theme=dark] .colab-df-convert:hover {\n",
              "      background-color: #434B5C;\n",
              "      box-shadow: 0px 1px 3px 1px rgba(0, 0, 0, 0.15);\n",
              "      filter: drop-shadow(0px 1px 2px rgba(0, 0, 0, 0.3));\n",
              "      fill: #FFFFFF;\n",
              "    }\n",
              "  </style>\n",
              "\n",
              "      <script>\n",
              "        const buttonEl =\n",
              "          document.querySelector('#df-13a25f01-23c6-4d0b-993d-802c3fd5f7a7 button.colab-df-convert');\n",
              "        buttonEl.style.display =\n",
              "          google.colab.kernel.accessAllowed ? 'block' : 'none';\n",
              "\n",
              "        async function convertToInteractive(key) {\n",
              "          const element = document.querySelector('#df-13a25f01-23c6-4d0b-993d-802c3fd5f7a7');\n",
              "          const dataTable =\n",
              "            await google.colab.kernel.invokeFunction('convertToInteractive',\n",
              "                                                     [key], {});\n",
              "          if (!dataTable) return;\n",
              "\n",
              "          const docLinkHtml = 'Like what you see? Visit the ' +\n",
              "            '<a target=\"_blank\" href=https://colab.research.google.com/notebooks/data_table.ipynb>data table notebook</a>'\n",
              "            + ' to learn more about interactive tables.';\n",
              "          element.innerHTML = '';\n",
              "          dataTable['output_type'] = 'display_data';\n",
              "          await google.colab.output.renderOutput(dataTable, element);\n",
              "          const docLink = document.createElement('div');\n",
              "          docLink.innerHTML = docLinkHtml;\n",
              "          element.appendChild(docLink);\n",
              "        }\n",
              "      </script>\n",
              "    </div>\n",
              "  </div>\n",
              "  "
            ],
            "text/plain": [
              "         VendorID tpep_pickup_datetime tpep_dropoff_datetime  passenger_count  \\\n",
              "0               1  2021-01-01 00:30:10   2021-01-01 00:36:12                1   \n",
              "1               1  2021-01-01 00:51:20   2021-01-01 00:52:19                1   \n",
              "2               1  2021-01-01 00:43:30   2021-01-01 01:11:06                1   \n",
              "3               1  2021-01-01 00:15:48   2021-01-01 00:31:01                0   \n",
              "4               2  2021-01-01 00:31:49   2021-01-01 00:48:21                1   \n",
              "...           ...                  ...                   ...              ...   \n",
              "1264143         2  2021-01-31 23:58:47   2021-02-01 00:04:40                3   \n",
              "1264144         2  2021-01-31 23:07:54   2021-01-31 23:19:42                1   \n",
              "1264145         2  2021-01-31 23:30:45   2021-01-31 23:35:13                1   \n",
              "1264146         2  2021-01-31 23:09:52   2021-01-31 23:51:56                2   \n",
              "1264147         2  2021-01-31 23:26:15   2021-01-31 23:33:48                2   \n",
              "\n",
              "         trip_distance  RatecodeID store_and_fwd_flag  PULocationID  \\\n",
              "0                 2.10           1                  N           142   \n",
              "1                 0.20           1                  N           238   \n",
              "2                14.70           1                  N           132   \n",
              "3                10.60           1                  N           138   \n",
              "4                 4.94           1                  N            68   \n",
              "...                ...         ...                ...           ...   \n",
              "1264143           0.81           1                  N            41   \n",
              "1264144           3.81           1                  N           113   \n",
              "1264145           1.32           1                  N           233   \n",
              "1264146          10.56           1                  N            56   \n",
              "1264147           1.93           1                  N           230   \n",
              "\n",
              "         DOLocationID  payment_type  fare_amount  extra  mta_tax  tip_amount  \\\n",
              "0                  43             2          8.0    3.0      0.5        0.00   \n",
              "1                 151             2          3.0    0.5      0.5        0.00   \n",
              "2                 165             1         42.0    0.5      0.5        8.65   \n",
              "3                 132             1         29.0    0.5      0.5        6.05   \n",
              "4                  33             1         16.5    0.5      0.5        4.06   \n",
              "...               ...           ...          ...    ...      ...         ...   \n",
              "1264143            74             2          5.0    0.5      0.5        0.00   \n",
              "1264144           141             2         12.5    0.5      0.5        0.00   \n",
              "1264145           237             2          6.0    0.5      0.5        0.00   \n",
              "1264146            68             1         37.5    0.5      0.5        0.00   \n",
              "1264147           229             1          7.5    0.5      0.5        2.26   \n",
              "\n",
              "         tolls_amount  improvement_surcharge  total_amount  \\\n",
              "0                0.00                    0.3     11.800000   \n",
              "1                0.00                    0.3      4.300000   \n",
              "2                0.00                    0.3     51.950001   \n",
              "3                0.00                    0.3     36.349998   \n",
              "4                0.00                    0.3     24.360001   \n",
              "...               ...                    ...           ...   \n",
              "1264143          0.00                    0.3      6.300000   \n",
              "1264144          0.00                    0.3     16.299999   \n",
              "1264145          0.00                    0.3      9.800000   \n",
              "1264146          6.12                    0.3     44.919998   \n",
              "1264147          0.00                    0.3     13.560000   \n",
              "\n",
              "         congestion_surcharge  \n",
              "0                         2.5  \n",
              "1                         0.0  \n",
              "2                         0.0  \n",
              "3                         0.0  \n",
              "4                         2.5  \n",
              "...                       ...  \n",
              "1264143                   0.0  \n",
              "1264144                   2.5  \n",
              "1264145                   2.5  \n",
              "1264146                   0.0  \n",
              "1264147                   2.5  \n",
              "\n",
              "[1264148 rows x 18 columns]"
            ]
          },
          "execution_count": 30,
          "metadata": {},
          "output_type": "execute_result"
        }
      ],
      "source": [
        "Pandas_DF"
      ]
    },
    {
      "cell_type": "code",
      "execution_count": 31,
      "id": "miAsWU7OZ0Bm",
      "metadata": {
        "id": "miAsWU7OZ0Bm"
      },
      "outputs": [],
      "source": [
        "import matplotlib.pyplot as plt\n"
      ]
    },
    {
      "cell_type": "code",
      "execution_count": 32,
      "id": "XlVjb9GIgUWm",
      "metadata": {
        "colab": {
          "base_uri": "https://localhost:8080/",
          "height": 472
        },
        "id": "XlVjb9GIgUWm",
        "outputId": "d18b5f4a-f4c5-45a1-ef7f-907b1349dddc"
      },
      "outputs": [
        {
          "data": {
            "image/png": "[encoded data removed]",
            "text/plain": [
              "<Figure size 640x480 with 1 Axes>"
            ]
          },
          "metadata": {},
          "output_type": "display_data"
        }
      ],
      "source": [
        "fare_condition = Pandas_DF['fare_amount'] < 50\n",
        "plt.hist(Pandas_DF[fare_condition]['fare_amount'], bins=50)\n",
        "plt.xlabel('Fare Amount')\n",
        "plt.title(\"Histogram of fare amount\")\n",
        "plt.show()"
      ]
    },
    {
      "attachments": {},
      "cell_type": "markdown",
      "id": "yK15zz6phTXZ",
      "metadata": {
        "id": "yK15zz6phTXZ"
      },
      "source": [
        "As we can see the most frequent fare_amount is around the 8 dollar mark, with a steep decline as we go towards 30 dollars."
      ]
    },
    {
      "cell_type": "code",
      "execution_count": 33,
      "id": "K3wEqaM0hS98",
      "metadata": {
        "colab": {
          "base_uri": "https://localhost:8080/",
          "height": 472
        },
        "id": "K3wEqaM0hS98",
        "outputId": "cdcaa314-9fba-4615-c932-70d996e548dd"
      },
      "outputs": [
        {
          "data": {
            "image/png": "[encoded data removed]",
            "text/plain": [
              "<Figure size 640x480 with 1 Axes>"
            ]
          },
          "metadata": {},
          "output_type": "display_data"
        }
      ],
      "source": [
        "trip_fare_condition = ((Pandas_DF['trip_distance'] < 50 )& (Pandas_DF['trip_distance'] > 0)) & ((Pandas_DF['fare_amount'] < 50)& (Pandas_DF['fare_amount'] > 0))\n",
        "plt.scatter(Pandas_DF[trip_fare_condition]['trip_distance'], Pandas_DF[trip_fare_condition][\"fare_amount\"])\n",
        "plt.xlabel('Trip Distance')\n",
        "plt.ylabel(\"Fare Amouunt\")\n",
        "plt.title(\"Scatter plot of Trip distance nad Fare amount\")\n",
        "plt.show()"
      ]
    },
    {
      "attachments": {},
      "cell_type": "markdown",
      "id": "UuvueR-VluC9",
      "metadata": {
        "id": "UuvueR-VluC9"
      },
      "source": [
        "From the scatter plot we can see that as the trip distance gets longer so does the fare_amount, but we have some outliers where the fare_amount stays the same despite the distance getting longer."
      ]
    },
    {
      "cell_type": "code",
      "execution_count": 34,
      "id": "JFPMM9h_goDF",
      "metadata": {
        "id": "JFPMM9h_goDF"
      },
      "outputs": [],
      "source": [
        "import seaborn as sns"
      ]
    },
    {
      "cell_type": "code",
      "execution_count": 35,
      "id": "UFx1tj6CmxEr",
      "metadata": {
        "colab": {
          "base_uri": "https://localhost:8080/",
          "height": 206
        },
        "id": "UFx1tj6CmxEr",
        "outputId": "96e57c27-8c52-4f63-bee8-9d64d07b5789"
      },
      "outputs": [
        {
          "data": {
            "text/html": [
              "\n",
              "  <div id=\"df-1f35e3f9-bdda-4576-92bd-b9d4dc431cac\">\n",
              "    <div class=\"colab-df-container\">\n",
              "      <div>\n",
              "<style scoped>\n",
              "    .dataframe tbody tr th:only-of-type {\n",
              "        vertical-align: middle;\n",
              "    }\n",
              "\n",
              "    .dataframe tbody tr th {\n",
              "        vertical-align: top;\n",
              "    }\n",
              "\n",
              "    .dataframe thead th {\n",
              "        text-align: right;\n",
              "    }\n",
              "</style>\n",
              "<table border=\"1\" class=\"dataframe\">\n",
              "  <thead>\n",
              "    <tr style=\"text-align: right;\">\n",
              "      <th></th>\n",
              "      <th>passenger_count</th>\n",
              "      <th>tip_amount</th>\n",
              "      <th>fare_amount</th>\n",
              "      <th>total_amount</th>\n",
              "      <th>trip_distance</th>\n",
              "    </tr>\n",
              "  </thead>\n",
              "  <tbody>\n",
              "    <tr>\n",
              "      <th>passenger_count</th>\n",
              "      <td>1.000000</td>\n",
              "      <td>0.005177</td>\n",
              "      <td>0.004738</td>\n",
              "      <td>0.005893</td>\n",
              "      <td>0.000143</td>\n",
              "    </tr>\n",
              "    <tr>\n",
              "      <th>tip_amount</th>\n",
              "      <td>0.005177</td>\n",
              "      <td>1.000000</td>\n",
              "      <td>0.462060</td>\n",
              "      <td>0.611958</td>\n",
              "      <td>0.013091</td>\n",
              "    </tr>\n",
              "    <tr>\n",
              "      <th>fare_amount</th>\n",
              "      <td>0.004738</td>\n",
              "      <td>0.462060</td>\n",
              "      <td>1.000000</td>\n",
              "      <td>0.976326</td>\n",
              "      <td>0.026815</td>\n",
              "    </tr>\n",
              "    <tr>\n",
              "      <th>total_amount</th>\n",
              "      <td>0.005893</td>\n",
              "      <td>0.611958</td>\n",
              "      <td>0.976326</td>\n",
              "      <td>1.000000</td>\n",
              "      <td>0.027003</td>\n",
              "    </tr>\n",
              "    <tr>\n",
              "      <th>trip_distance</th>\n",
              "      <td>0.000143</td>\n",
              "      <td>0.013091</td>\n",
              "      <td>0.026815</td>\n",
              "      <td>0.027003</td>\n",
              "      <td>1.000000</td>\n",
              "    </tr>\n",
              "  </tbody>\n",
              "</table>\n",
              "</div>\n",
              "      <button class=\"colab-df-convert\" onclick=\"convertToInteractive('df-1f35e3f9-bdda-4576-92bd-b9d4dc431cac')\"\n",
              "              title=\"Convert this dataframe to an interactive table.\"\n",
              "              style=\"display:none;\">\n",
              "        \n",
              "  <svg xmlns=\"http://www.w3.org/2000/svg\" height=\"24px\"viewBox=\"0 0 24 24\"\n",
              "       width=\"24px\">\n",
              "    <path d=\"M0 0h24v24H0V0z\" fill=\"none\"/>\n",
              "    <path d=\"M18.56 5.44l.94 2.06.94-2.06 2.06-.94-2.06-.94-.94-2.06-.94 2.06-2.06.94zm-11 1L8.5 8.5l.94-2.06 2.06-.94-2.06-.94L8.5 2.5l-.94 2.06-2.06.94zm10 10l.94 2.06.94-2.06 2.06-.94-2.06-.94-.94-2.06-.94 2.06-2.06.94z\"/><path d=\"M17.41 7.96l-1.37-1.37c-.4-.4-.92-.59-1.43-.59-.52 0-1.04.2-1.43.59L10.3 9.45l-7.72 7.72c-.78.78-.78 2.05 0 2.83L4 21.41c.39.39.9.59 1.41.59.51 0 1.02-.2 1.41-.59l7.78-7.78 2.81-2.81c.8-.78.8-2.07 0-2.86zM5.41 20L4 18.59l7.72-7.72 1.47 1.35L5.41 20z\"/>\n",
              "  </svg>\n",
              "      </button>\n",
              "      \n",
              "  <style>\n",
              "    .colab-df-container {\n",
              "      display:flex;\n",
              "      flex-wrap:wrap;\n",
              "      gap: 12px;\n",
              "    }\n",
              "\n",
              "    .colab-df-convert {\n",
              "      background-color: #E8F0FE;\n",
              "      border: none;\n",
              "      border-radius: 50%;\n",
              "      cursor: pointer;\n",
              "      display: none;\n",
              "      fill: #1967D2;\n",
              "      height: 32px;\n",
              "      padding: 0 0 0 0;\n",
              "      width: 32px;\n",
              "    }\n",
              "\n",
              "    .colab-df-convert:hover {\n",
              "      background-color: #E2EBFA;\n",
              "      box-shadow: 0px 1px 2px rgba(60, 64, 67, 0.3), 0px 1px 3px 1px rgba(60, 64, 67, 0.15);\n",
              "      fill: #174EA6;\n",
              "    }\n",
              "\n",
              "    [theme=dark] .colab-df-convert {\n",
              "      background-color: #3B4455;\n",
              "      fill: #D2E3FC;\n",
              "    }\n",
              "\n",
              "    [theme=dark] .colab-df-convert:hover {\n",
              "      background-color: #434B5C;\n",
              "      box-shadow: 0px 1px 3px 1px rgba(0, 0, 0, 0.15);\n",
              "      filter: drop-shadow(0px 1px 2px rgba(0, 0, 0, 0.3));\n",
              "      fill: #FFFFFF;\n",
              "    }\n",
              "  </style>\n",
              "\n",
              "      <script>\n",
              "        const buttonEl =\n",
              "          document.querySelector('#df-1f35e3f9-bdda-4576-92bd-b9d4dc431cac button.colab-df-convert');\n",
              "        buttonEl.style.display =\n",
              "          google.colab.kernel.accessAllowed ? 'block' : 'none';\n",
              "\n",
              "        async function convertToInteractive(key) {\n",
              "          const element = document.querySelector('#df-1f35e3f9-bdda-4576-92bd-b9d4dc431cac');\n",
              "          const dataTable =\n",
              "            await google.colab.kernel.invokeFunction('convertToInteractive',\n",
              "                                                     [key], {});\n",
              "          if (!dataTable) return;\n",
              "\n",
              "          const docLinkHtml = 'Like what you see? Visit the ' +\n",
              "            '<a target=\"_blank\" href=https://colab.research.google.com/notebooks/data_table.ipynb>data table notebook</a>'\n",
              "            + ' to learn more about interactive tables.';\n",
              "          element.innerHTML = '';\n",
              "          dataTable['output_type'] = 'display_data';\n",
              "          await google.colab.output.renderOutput(dataTable, element);\n",
              "          const docLink = document.createElement('div');\n",
              "          docLink.innerHTML = docLinkHtml;\n",
              "          element.appendChild(docLink);\n",
              "        }\n",
              "      </script>\n",
              "    </div>\n",
              "  </div>\n",
              "  "
            ],
            "text/plain": [
              "                 passenger_count  tip_amount  fare_amount  total_amount  \\\n",
              "passenger_count         1.000000    0.005177     0.004738      0.005893   \n",
              "tip_amount              0.005177    1.000000     0.462060      0.611958   \n",
              "fare_amount             0.004738    0.462060     1.000000      0.976326   \n",
              "total_amount            0.005893    0.611958     0.976326      1.000000   \n",
              "trip_distance           0.000143    0.013091     0.026815      0.027003   \n",
              "\n",
              "                 trip_distance  \n",
              "passenger_count       0.000143  \n",
              "tip_amount            0.013091  \n",
              "fare_amount           0.026815  \n",
              "total_amount          0.027003  \n",
              "trip_distance         1.000000  "
            ]
          },
          "execution_count": 35,
          "metadata": {},
          "output_type": "execute_result"
        }
      ],
      "source": [
        "columns_relevant = ['passenger_count', 'tip_amount','fare_amount', 'total_amount', 'trip_distance']\n",
        "corr_matrix = Pandas_DF[columns_relevant].corr()\n",
        "corr_matrix"
      ]
    },
    {
      "cell_type": "code",
      "execution_count": 36,
      "id": "0FtNSLuam07r",
      "metadata": {
        "colab": {
          "base_uri": "https://localhost:8080/",
          "height": 540
        },
        "id": "0FtNSLuam07r",
        "outputId": "fcc6a7af-f201-4157-829e-c8b4e6831649"
      },
      "outputs": [
        {
          "data": {
            "image/png": "[encoded data removed]",
            "text/plain": [
              "<Figure size 640x480 with 2 Axes>"
            ]
          },
          "metadata": {},
          "output_type": "display_data"
        }
      ],
      "source": [
        "sns.heatmap(corr_matrix, annot=True)\n",
        "plt.show()"
      ]
    },
    {
      "attachments": {},
      "cell_type": "markdown",
      "id": "-HPt8sJtn48B",
      "metadata": {
        "id": "-HPt8sJtn48B"
      },
      "source": [
        "From what we can see from the correlation diagram, there are not that many correlations above the 0.2 value which is considered to be the lowest amount to even consider it. Personally I thought that passenger_count would correlate with tip_amount but it seems that is not the case. On the other hand we can see that tip_amount moderately correlates with fare_amount and total_amount, also fare_amount has a very high positive correlation with total_amount."
      ]
    },
    {
      "cell_type": "code",
      "execution_count": 37,
      "id": "Lsnk8hQHnCHa",
      "metadata": {
        "id": "Lsnk8hQHnCHa"
      },
      "outputs": [],
      "source": [
        "import psycopg2"
      ]
    },
    {
      "cell_type": "code",
      "execution_count": 47,
      "id": "PMnRnWhGXPQG",
      "metadata": {
        "colab": {
          "base_uri": "https://localhost:8080/"
        },
        "id": "PMnRnWhGXPQG",
        "outputId": "63f55fb8-0b96-4f73-f9ae-1604732e7155"
      },
      "outputs": [
        {
          "data": {
            "text/plain": [
              "148"
            ]
          },
          "execution_count": 47,
          "metadata": {},
          "output_type": "execute_result"
        }
      ],
      "source": [
        "from sqlalchemy import create_engine\n",
        "\n",
        "database = 'nyc_taxi'\n",
        "username = 'postgres'\n",
        "\n",
        "\n",
        "# create the engine\n",
        "engine = create_engine(f'postgresql://{username}:{pwd}@{hostname}:{port_id}/{database}')\n",
        "\n",
        "# write the DataFrame to a table in your database\n",
        "Pandas_DF.to_sql('transformed_table', engine, if_exists='replace')\n"
      ]
    },
    {
      "cell_type": "code",
      "execution_count": 49,
      "id": "taO5ZlTASpe7",
      "metadata": {
        "colab": {
          "base_uri": "https://localhost:8080/"
        },
        "id": "taO5ZlTASpe7",
        "outputId": "7f40d47a-d466-443b-fb6e-03a85da3774d"
      },
      "outputs": [
        {
          "name": "stdout",
          "output_type": "stream",
          "text": [
            "(0, 1, datetime.datetime(2021, 1, 1, 0, 30, 10), datetime.datetime(2021, 1, 1, 0, 36, 12), 1, 2.1, 1, 'N', 142, 43, 2, 8.0, 3.0, 0.5, 0.0, 0.0, 0.3, 11.8, 2.5)\n",
            "(1, 1, datetime.datetime(2021, 1, 1, 0, 51, 20), datetime.datetime(2021, 1, 1, 0, 52, 19), 1, 0.2, 1, 'N', 238, 151, 2, 3.0, 0.5, 0.5, 0.0, 0.0, 0.3, 4.3, 0.0)\n",
            "(2, 1, datetime.datetime(2021, 1, 1, 0, 43, 30), datetime.datetime(2021, 1, 1, 1, 11, 6), 1, 14.7, 1, 'N', 132, 165, 1, 42.0, 0.5, 0.5, 8.65, 0.0, 0.3, 51.95, 0.0)\n",
            "(3, 1, datetime.datetime(2021, 1, 1, 0, 15, 48), datetime.datetime(2021, 1, 1, 0, 31, 1), 0, 10.6, 1, 'N', 138, 132, 1, 29.0, 0.5, 0.5, 6.05, 0.0, 0.3, 36.35, 0.0)\n",
            "(4, 2, datetime.datetime(2021, 1, 1, 0, 31, 49), datetime.datetime(2021, 1, 1, 0, 48, 21), 1, 4.94, 1, 'N', 68, 33, 1, 16.5, 0.5, 0.5, 4.06, 0.0, 0.3, 24.36, 2.5)\n"
          ]
        }
      ],
      "source": [
        "\n",
        "database = 'nyc_taxi'\n",
        "username = 'postgres'\n",
        "\n",
        "\n",
        "\n",
        "\n",
        "conn = psycopg2.connect(\n",
        "    host = hostname,\n",
        "    dbname = database,\n",
        "    user = username,\n",
        "    password = pwd,\n",
        "    port = port_id\n",
        ")\n",
        "\n",
        "\n",
        "\n",
        "cursor = conn.cursor()\n",
        "cursor.execute(\"SELECT * FROM transformed_table LIMIT 5;\") \n",
        "\n",
        "\n",
        "results = cursor.fetchall()\n",
        "for row in results:\n",
        "    print(row)\n",
        "\n",
        "\n",
        "cursor.close()\n",
        "conn.close()"
      ]
    },
    {
      "cell_type": "code",
      "execution_count": null,
      "id": "SJVluhjwTLeK",
      "metadata": {
        "id": "SJVluhjwTLeK"
      },
      "outputs": [],
      "source": []
    }
  ],
  "metadata": {
    "colab": {
      "provenance": []
    },
    "kernelspec": {
      "display_name": "Python 3",
      "language": "python",
      "name": "python3"
    },
    "language_info": {
      "codemirror_mode": {
        "name": "ipython",
        "version": 3
      },
      "file_extension": ".py",
      "mimetype": "text/x-python",
      "name": "python",
      "nbconvert_exporter": "python",
      "pygments_lexer": "ipython3",
      "version": "3.7.10"
    }
  },
  "nbformat": 4,
  "nbformat_minor": 5
}
